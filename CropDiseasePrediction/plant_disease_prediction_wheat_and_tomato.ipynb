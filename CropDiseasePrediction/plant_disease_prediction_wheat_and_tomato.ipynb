{
  "cells": [
    {
      "cell_type": "markdown",
      "metadata": {
        "id": "HsWqclHdezG1"
      },
      "source": [
        "Mounting google drive (If using google colab and have uploaded dataset to drive. For Our use, we have done this)"
      ]
    },
    {
      "cell_type": "code",
      "execution_count": null,
      "metadata": {
        "colab": {
          "background_save": true
        },
        "id": "EmMr4aTCWkjK",
        "outputId": "0354dba2-41d4-4139-ae83-3e2ddf0df3e5"
      },
      "outputs": [
        {
          "name": "stdout",
          "output_type": "stream",
          "text": [
            "Mounted at /content/drive\n"
          ]
        }
      ],
      "source": [
        "from google.colab import drive\n",
        "drive.mount('/content/drive')"
      ]
    },
    {
      "cell_type": "markdown",
      "metadata": {
        "id": "LzXFJxnze1O2"
      },
      "source": [
        "check if mount successful"
      ]
    },
    {
      "cell_type": "code",
      "execution_count": null,
      "metadata": {
        "colab": {
          "base_uri": "https://localhost:8080/"
        },
        "id": "PHODSHCHb-pb",
        "outputId": "2bfd1bfd-0b7a-426c-8768-5c1df3c10bb3"
      },
      "outputs": [
        {
          "name": "stdout",
          "output_type": "stream",
          "text": [
            "'Healthy Tomato'  'Tomato Early blight leaf'  'Wheat leaf septoria'\n",
            "'Healthy Wheat'   'Tomato leaf late blight'   'Wheat leaf stripe rust'\n"
          ]
        }
      ],
      "source": [
        "!ls \"/content/drive/My Drive/Dataset/train\""
      ]
    },
    {
      "cell_type": "code",
      "execution_count": null,
      "metadata": {
        "colab": {
          "base_uri": "https://localhost:8080/"
        },
        "id": "mRFi6eDV5C3-",
        "outputId": "fb581167-b477-4814-d869-a24c91b3e4ba"
      },
      "outputs": [
        {
          "name": "stdout",
          "output_type": "stream",
          "text": [
            "'Healthy Tomato'  'Tomato Early blight leaf'  'Wheat leaf septoria'\n",
            "'Healthy Wheat'   'Tomato leaf late blight'   'Wheat leaf stripe rust'\n"
          ]
        }
      ],
      "source": [
        "!ls \"/content/drive/My Drive/Dataset/test\""
      ]
    },
    {
      "cell_type": "markdown",
      "metadata": {
        "id": "9VVvryx1e2zs"
      },
      "source": [
        "Import all necessary libraries"
      ]
    },
    {
      "cell_type": "code",
      "execution_count": null,
      "metadata": {
        "id": "uktQcxNgcURs"
      },
      "outputs": [],
      "source": [
        "import numpy as np\n",
        "import matplotlib.pyplot as plt\n",
        "import cv2\n",
        "import os\n",
        "from os import listdir\n",
        "import tensorflow as tf\n",
        "from keras.utils import img_to_array, to_categorical\n",
        "from keras.layers import Dense, GlobalAveragePooling2D\n",
        "from sklearn.model_selection import train_test_split\n",
        "from keras.applications import vgg16\n",
        "from keras.models import Model\n",
        "from sklearn.metrics import classification_report\n",
        "import seaborn as sns"
      ]
    },
    {
      "cell_type": "markdown",
      "metadata": {
        "id": "fDyTNiCYe4-w"
      },
      "source": [
        "Check tf version, if not working, change to 2.12.0"
      ]
    },
    {
      "cell_type": "code",
      "execution_count": null,
      "metadata": {
        "colab": {
          "base_uri": "https://localhost:8080/"
        },
        "id": "FMDuiB_6dngF",
        "outputId": "897053c9-228c-4eb9-9965-1ac1158e5bd8"
      },
      "outputs": [
        {
          "name": "stdout",
          "output_type": "stream",
          "text": [
            "2.15.0\n"
          ]
        }
      ],
      "source": [
        "print(tf.__version__)"
      ]
    },
    {
      "cell_type": "markdown",
      "metadata": {
        "id": "h-2wnbo4e8bW"
      },
      "source": [
        "Visualise random images and also analyse the dimensions"
      ]
    },
    {
      "cell_type": "markdown",
      "metadata": {
        "id": "kVHTnADLfA2H"
      },
      "source": [
        "Convert to numpy array\n"
      ]
    },
    {
      "cell_type": "code",
      "execution_count": null,
      "metadata": {
        "id": "h4V7dRZ7efO5"
      },
      "outputs": [],
      "source": [
        "def convert_image_to_array(image_dir):\n",
        "  try:\n",
        "    image = cv2.imread(image_dir)\n",
        "    if image is not None:\n",
        "      image = cv2.resize(image, (224,224))\n",
        "      return img_to_array(image)\n",
        "    else:\n",
        "      return np.array([])\n",
        "  except Exception as e:\n",
        "    print(f\"Error : {e}\")\n",
        "    return None"
      ]
    },
    {
      "cell_type": "markdown",
      "metadata": {},
      "source": [
        "Add train and test directories before running"
      ]
    },
    {
      "cell_type": "code",
      "execution_count": null,
      "metadata": {
        "id": "B89r-Uv5fmMP"
      },
      "outputs": [],
      "source": [
        "dir_train = \"/content/drive/My Drive/Dataset/train\"\n",
        "dir_test = \"/content/drive/My Drive/Dataset/test\"\n",
        "\n",
        "image_list_train, label_list_train = [], []\n",
        "image_list_test, label_list_test = [], []\n",
        "\n",
        "all_labels = [\n",
        "              'Tomato Early blight leaf', 'Tomato leaf', 'Tomato leaf late blight',\n",
        "    'Wheat leaf Healthy', 'Wheat leaf septoria', 'Wheat leaf stripe_rust'\n",
        "    ]\n",
        "\n",
        "binary_labels = [0, 1, 2\n",
        "                 , 3, 4, 5\n",
        "                 ]\n",
        "\n",
        "temp = -1\n",
        "\n",
        "for directory in all_labels:\n",
        "    plant_image_list = listdir(f\"{dir_train}/{directory}\")\n",
        "    temp += 1\n",
        "    for files in plant_image_list:\n",
        "      image_path = f\"{dir_train}/{directory}/{files}\"\n",
        "      image_list_train.append(convert_image_to_array(image_path))\n",
        "      label_list_train.append(binary_labels[temp])\n",
        "\n",
        "temp = -1\n",
        "\n",
        "for directory in all_labels:\n",
        "    plant_image_list = listdir(f\"{dir_test}/{directory}\")\n",
        "    temp += 1\n",
        "    for files in plant_image_list:\n",
        "      image_path = f\"{dir_test}/{directory}/{files}\"\n",
        "      image_list_test.append(convert_image_to_array(image_path))\n",
        "      label_list_test.append(binary_labels[temp])"
      ]
    },
    {
      "cell_type": "markdown",
      "metadata": {
        "id": "rOYwOLIvjI-w"
      },
      "source": [
        "split train set into validation and create test set as well"
      ]
    },
    {
      "cell_type": "code",
      "execution_count": null,
      "metadata": {
        "id": "wEjRCxZrgp45"
      },
      "outputs": [],
      "source": [
        "x_train, x_val, y_train, y_val = train_test_split(image_list_train, label_list_train, test_size = 0.2, random_state = 42)\n",
        "x_test = image_list_test\n",
        "y_test = label_list_test"
      ]
    },
    {
      "cell_type": "markdown",
      "metadata": {
        "id": "O8lNFQlpjvM_"
      },
      "source": [
        "normalize\n"
      ]
    },
    {
      "cell_type": "code",
      "execution_count": null,
      "metadata": {
        "id": "pYg45OafjwRR"
      },
      "outputs": [],
      "source": [
        "x_train = np.array(x_train, dtype = np.float16) / 255.0\n",
        "x_val = np.array(x_val, dtype = np.float16) / 255.0\n",
        "x_test = np.array(x_test, dtype = np.float16) / 255.0\n",
        "x_train = x_train.reshape(-1, 224, 224, 3)\n",
        "x_val = x_val.reshape(-1, 224, 224, 3)\n",
        "x_test = x_test.reshape(-1, 224, 224, 3)"
      ]
    },
    {
      "cell_type": "markdown",
      "metadata": {
        "id": "-dXAKl1SkNSf"
      },
      "source": [
        "one-hot encode target variable"
      ]
    },
    {
      "cell_type": "code",
      "execution_count": null,
      "metadata": {
        "id": "IG_uHr4CkP2A"
      },
      "outputs": [],
      "source": [
        "y_train = to_categorical(y_train)\n",
        "y_val = to_categorical(y_val)\n",
        "y_test = to_categorical(y_test)"
      ]
    },
    {
      "cell_type": "markdown",
      "metadata": {
        "id": "m43pmmPCGCrW"
      },
      "source": [
        "download vgg and initalise"
      ]
    },
    {
      "cell_type": "code",
      "execution_count": null,
      "metadata": {
        "colab": {
          "base_uri": "https://localhost:8080/"
        },
        "id": "BEFn7ll-GCPu",
        "outputId": "440cb7a3-232a-45cc-9b41-827527bc75a3"
      },
      "outputs": [
        {
          "name": "stdout",
          "output_type": "stream",
          "text": [
            "Model: \"vgg16\"\n",
            "_________________________________________________________________\n",
            " Layer (type)                Output Shape              Param #   \n",
            "=================================================================\n",
            " input_3 (InputLayer)        [(None, 224, 224, 3)]     0         \n",
            "                                                                 \n",
            " block1_conv1 (Conv2D)       (None, 224, 224, 64)      1792      \n",
            "                                                                 \n",
            " block1_conv2 (Conv2D)       (None, 224, 224, 64)      36928     \n",
            "                                                                 \n",
            " block1_pool (MaxPooling2D)  (None, 112, 112, 64)      0         \n",
            "                                                                 \n",
            " block2_conv1 (Conv2D)       (None, 112, 112, 128)     73856     \n",
            "                                                                 \n",
            " block2_conv2 (Conv2D)       (None, 112, 112, 128)     147584    \n",
            "                                                                 \n",
            " block2_pool (MaxPooling2D)  (None, 56, 56, 128)       0         \n",
            "                                                                 \n",
            " block3_conv1 (Conv2D)       (None, 56, 56, 256)       295168    \n",
            "                                                                 \n",
            " block3_conv2 (Conv2D)       (None, 56, 56, 256)       590080    \n",
            "                                                                 \n",
            " block3_conv3 (Conv2D)       (None, 56, 56, 256)       590080    \n",
            "                                                                 \n",
            " block3_pool (MaxPooling2D)  (None, 28, 28, 256)       0         \n",
            "                                                                 \n",
            " block4_conv1 (Conv2D)       (None, 28, 28, 512)       1180160   \n",
            "                                                                 \n",
            " block4_conv2 (Conv2D)       (None, 28, 28, 512)       2359808   \n",
            "                                                                 \n",
            " block4_conv3 (Conv2D)       (None, 28, 28, 512)       2359808   \n",
            "                                                                 \n",
            " block4_pool (MaxPooling2D)  (None, 14, 14, 512)       0         \n",
            "                                                                 \n",
            " block5_conv1 (Conv2D)       (None, 14, 14, 512)       2359808   \n",
            "                                                                 \n",
            " block5_conv2 (Conv2D)       (None, 14, 14, 512)       2359808   \n",
            "                                                                 \n",
            " block5_conv3 (Conv2D)       (None, 14, 14, 512)       2359808   \n",
            "                                                                 \n",
            " block5_pool (MaxPooling2D)  (None, 7, 7, 512)         0         \n",
            "                                                                 \n",
            "=================================================================\n",
            "Total params: 14714688 (56.13 MB)\n",
            "Trainable params: 0 (0.00 Byte)\n",
            "Non-trainable params: 14714688 (56.13 MB)\n",
            "_________________________________________________________________\n"
          ]
        }
      ],
      "source": [
        "img_rows, img_cols = 224, 224\n",
        "\n",
        "vgg = vgg16.VGG16(weights = 'imagenet',\n",
        "                 include_top = False, # making sure not to take last layer\n",
        "                 input_shape = (img_rows, img_cols, 3))\n",
        "\n",
        "# dont keep layers of pretrained model as trainable =\n",
        "for layer in vgg.layers:\n",
        "    layer.trainable = False\n",
        "\n",
        "vgg.summary()"
      ]
    },
    {
      "cell_type": "markdown",
      "metadata": {
        "id": "cQcq3YU0HGKV"
      },
      "source": [
        "create extra layers"
      ]
    },
    {
      "cell_type": "code",
      "execution_count": null,
      "metadata": {
        "id": "1q9RfjckMCal"
      },
      "outputs": [],
      "source": [
        "def lw(bottom_model, num_classes):\n",
        "    top_model = bottom_model.output\n",
        "    top_model = GlobalAveragePooling2D()(top_model)\n",
        "    top_model = Dense(256,activation='relu')(top_model)\n",
        "    top_model = Dense(128,activation='relu')(top_model)\n",
        "    top_model = Dense(96,activation='relu')(top_model)\n",
        "    top_model = Dense(64,activation='relu')(top_model)\n",
        "    top_model = Dense(num_classes,activation='softmax')(top_model)\n",
        "    return top_model"
      ]
    },
    {
      "cell_type": "markdown",
      "metadata": {
        "id": "6vftmsjuHIlG"
      },
      "source": [
        "join model"
      ]
    },
    {
      "cell_type": "code",
      "execution_count": null,
      "metadata": {
        "colab": {
          "base_uri": "https://localhost:8080/"
        },
        "id": "ulTxcrOVtcbp",
        "outputId": "1b9038f7-ecc8-44a5-b28b-3b1362e92e12"
      },
      "outputs": [
        {
          "name": "stdout",
          "output_type": "stream",
          "text": [
            "Model: \"model\"\n",
            "_________________________________________________________________\n",
            " Layer (type)                Output Shape              Param #   \n",
            "=================================================================\n",
            " input_3 (InputLayer)        [(None, 224, 224, 3)]     0         \n",
            "                                                                 \n",
            " block1_conv1 (Conv2D)       (None, 224, 224, 64)      1792      \n",
            "                                                                 \n",
            " block1_conv2 (Conv2D)       (None, 224, 224, 64)      36928     \n",
            "                                                                 \n",
            " block1_pool (MaxPooling2D)  (None, 112, 112, 64)      0         \n",
            "                                                                 \n",
            " block2_conv1 (Conv2D)       (None, 112, 112, 128)     73856     \n",
            "                                                                 \n",
            " block2_conv2 (Conv2D)       (None, 112, 112, 128)     147584    \n",
            "                                                                 \n",
            " block2_pool (MaxPooling2D)  (None, 56, 56, 128)       0         \n",
            "                                                                 \n",
            " block3_conv1 (Conv2D)       (None, 56, 56, 256)       295168    \n",
            "                                                                 \n",
            " block3_conv2 (Conv2D)       (None, 56, 56, 256)       590080    \n",
            "                                                                 \n",
            " block3_conv3 (Conv2D)       (None, 56, 56, 256)       590080    \n",
            "                                                                 \n",
            " block3_pool (MaxPooling2D)  (None, 28, 28, 256)       0         \n",
            "                                                                 \n",
            " block4_conv1 (Conv2D)       (None, 28, 28, 512)       1180160   \n",
            "                                                                 \n",
            " block4_conv2 (Conv2D)       (None, 28, 28, 512)       2359808   \n",
            "                                                                 \n",
            " block4_conv3 (Conv2D)       (None, 28, 28, 512)       2359808   \n",
            "                                                                 \n",
            " block4_pool (MaxPooling2D)  (None, 14, 14, 512)       0         \n",
            "                                                                 \n",
            " block5_conv1 (Conv2D)       (None, 14, 14, 512)       2359808   \n",
            "                                                                 \n",
            " block5_conv2 (Conv2D)       (None, 14, 14, 512)       2359808   \n",
            "                                                                 \n",
            " block5_conv3 (Conv2D)       (None, 14, 14, 512)       2359808   \n",
            "                                                                 \n",
            " block5_pool (MaxPooling2D)  (None, 7, 7, 512)         0         \n",
            "                                                                 \n",
            " global_average_pooling2d (  (None, 512)               0         \n",
            " GlobalAveragePooling2D)                                         \n",
            "                                                                 \n",
            " dense (Dense)               (None, 256)               131328    \n",
            "                                                                 \n",
            " dense_1 (Dense)             (None, 128)               32896     \n",
            "                                                                 \n",
            " dense_2 (Dense)             (None, 96)                12384     \n",
            "                                                                 \n",
            " dense_3 (Dense)             (None, 64)                6208      \n",
            "                                                                 \n",
            " dense_4 (Dense)             (None, 6)                 390       \n",
            "                                                                 \n",
            "=================================================================\n",
            "Total params: 14897894 (56.83 MB)\n",
            "Trainable params: 183206 (715.65 KB)\n",
            "Non-trainable params: 14714688 (56.13 MB)\n",
            "_________________________________________________________________\n",
            "None\n"
          ]
        }
      ],
      "source": [
        "num_classes = 6\n",
        "FC_Head = lw(vgg, num_classes)\n",
        "model = Model(inputs = vgg.input, outputs = FC_Head)\n",
        "print(model.summary())"
      ]
    },
    {
      "cell_type": "markdown",
      "metadata": {
        "id": "iYpKAoUpHJxJ"
      },
      "source": [
        "compile and train"
      ]
    },
    {
      "cell_type": "code",
      "execution_count": null,
      "metadata": {
        "colab": {
          "base_uri": "https://localhost:8080/"
        },
        "id": "radsZoHAthGi",
        "outputId": "f3dd47a3-e233-4522-ec88-7de3ce30f4ea"
      },
      "outputs": [
        {
          "name": "stdout",
          "output_type": "stream",
          "text": [
            "Epoch 1/25\n",
            "16/16 [==============================] - 23s 633ms/step - loss: 1.6256 - accuracy: 0.3406 - val_loss: 1.3481 - val_accuracy: 0.4844\n",
            "Epoch 2/25\n",
            "16/16 [==============================] - 3s 167ms/step - loss: 1.1557 - accuracy: 0.5571 - val_loss: 0.8972 - val_accuracy: 0.6641\n",
            "Epoch 3/25\n",
            "16/16 [==============================] - 3s 167ms/step - loss: 0.7320 - accuracy: 0.7106 - val_loss: 0.6339 - val_accuracy: 0.7891\n",
            "Epoch 4/25\n",
            "16/16 [==============================] - 3s 170ms/step - loss: 0.5177 - accuracy: 0.8130 - val_loss: 0.4840 - val_accuracy: 0.8047\n",
            "Epoch 5/25\n",
            "16/16 [==============================] - 3s 161ms/step - loss: 0.4732 - accuracy: 0.8110 - val_loss: 0.4379 - val_accuracy: 0.8438\n",
            "Epoch 6/25\n",
            "16/16 [==============================] - 3s 169ms/step - loss: 0.3802 - accuracy: 0.8484 - val_loss: 0.5260 - val_accuracy: 0.7734\n",
            "Epoch 7/25\n",
            "16/16 [==============================] - 3s 161ms/step - loss: 0.3242 - accuracy: 0.8681 - val_loss: 0.4133 - val_accuracy: 0.8516\n",
            "Epoch 8/25\n",
            "16/16 [==============================] - 3s 162ms/step - loss: 0.3065 - accuracy: 0.8701 - val_loss: 0.3953 - val_accuracy: 0.8516\n",
            "Epoch 9/25\n",
            "16/16 [==============================] - 3s 164ms/step - loss: 0.2582 - accuracy: 0.8996 - val_loss: 0.3424 - val_accuracy: 0.8672\n",
            "Epoch 10/25\n",
            "16/16 [==============================] - 3s 163ms/step - loss: 0.2155 - accuracy: 0.9154 - val_loss: 0.3433 - val_accuracy: 0.8594\n",
            "Epoch 11/25\n",
            "16/16 [==============================] - 3s 160ms/step - loss: 0.1966 - accuracy: 0.9154 - val_loss: 0.3164 - val_accuracy: 0.8672\n",
            "Epoch 12/25\n",
            "16/16 [==============================] - 3s 161ms/step - loss: 0.1946 - accuracy: 0.9232 - val_loss: 0.3312 - val_accuracy: 0.8828\n",
            "Epoch 13/25\n",
            "16/16 [==============================] - 3s 159ms/step - loss: 0.2012 - accuracy: 0.9331 - val_loss: 0.4273 - val_accuracy: 0.8281\n",
            "Epoch 14/25\n",
            "16/16 [==============================] - 3s 161ms/step - loss: 0.2052 - accuracy: 0.9173 - val_loss: 0.3798 - val_accuracy: 0.8516\n",
            "Epoch 15/25\n",
            "16/16 [==============================] - 3s 170ms/step - loss: 0.1892 - accuracy: 0.9291 - val_loss: 0.2939 - val_accuracy: 0.8750\n",
            "Epoch 16/25\n",
            "16/16 [==============================] - 3s 168ms/step - loss: 0.1685 - accuracy: 0.9370 - val_loss: 0.3636 - val_accuracy: 0.8594\n",
            "Epoch 17/25\n",
            "16/16 [==============================] - 2s 158ms/step - loss: 0.1334 - accuracy: 0.9528 - val_loss: 0.3164 - val_accuracy: 0.8906\n",
            "Epoch 18/25\n",
            "16/16 [==============================] - 2s 158ms/step - loss: 0.1390 - accuracy: 0.9449 - val_loss: 0.3203 - val_accuracy: 0.8906\n",
            "Epoch 19/25\n",
            "16/16 [==============================] - 3s 169ms/step - loss: 0.1320 - accuracy: 0.9449 - val_loss: 0.3350 - val_accuracy: 0.8828\n",
            "Epoch 20/25\n",
            "16/16 [==============================] - 3s 160ms/step - loss: 0.0897 - accuracy: 0.9705 - val_loss: 0.3208 - val_accuracy: 0.8828\n",
            "Epoch 21/25\n",
            "16/16 [==============================] - 2s 157ms/step - loss: 0.0863 - accuracy: 0.9705 - val_loss: 0.3155 - val_accuracy: 0.8828\n",
            "Epoch 22/25\n",
            "16/16 [==============================] - 2s 157ms/step - loss: 0.1014 - accuracy: 0.9606 - val_loss: 0.3295 - val_accuracy: 0.8438\n",
            "Epoch 23/25\n",
            "16/16 [==============================] - 3s 167ms/step - loss: 0.0960 - accuracy: 0.9567 - val_loss: 0.3700 - val_accuracy: 0.8516\n",
            "Epoch 24/25\n",
            "16/16 [==============================] - 3s 168ms/step - loss: 0.0899 - accuracy: 0.9705 - val_loss: 0.3297 - val_accuracy: 0.8984\n",
            "Epoch 25/25\n",
            "16/16 [==============================] - 3s 160ms/step - loss: 0.0525 - accuracy: 0.9843 - val_loss: 0.3098 - val_accuracy: 0.8984\n"
          ]
        }
      ],
      "source": [
        "model.compile(optimizer='adam', loss = 'categorical_crossentropy',metrics = ['accuracy'])\n",
        "history = model.fit(x_train,y_train,\n",
        "                    epochs=25,\n",
        "                    validation_data=(x_val,y_val),\n",
        "                    verbose = 1,\n",
        "                    initial_epoch=0)"
      ]
    },
    {
      "cell_type": "markdown",
      "metadata": {
        "id": "30HVO06HHLh2"
      },
      "source": [
        "extract accuracy and loss"
      ]
    },
    {
      "cell_type": "code",
      "execution_count": null,
      "metadata": {
        "id": "G2LZyVPkt50w"
      },
      "outputs": [],
      "source": [
        "acc = history.history['accuracy']\n",
        "val_acc = history.history['val_accuracy']\n",
        "loss = history.history['loss']\n",
        "val_loss = history.history['val_loss']"
      ]
    },
    {
      "cell_type": "markdown",
      "metadata": {
        "id": "dG8x_iTmHPPn"
      },
      "source": [
        "plot accuracy for training and validation"
      ]
    },
    {
      "cell_type": "code",
      "execution_count": null,
      "metadata": {
        "colab": {
          "base_uri": "https://localhost:8080/",
          "height": 469
        },
        "id": "bf30uCgEuA2I",
        "outputId": "d23e9d37-a673-4087-81d3-6bc0a731e683"
      },
      "outputs": [
        {
          "data": {
            "image/png": "[encoded data removed]",
            "text/plain": [
              "<Figure size 640x480 with 1 Axes>"
            ]
          },
          "metadata": {},
          "output_type": "display_data"
        },
        {
          "data": {
            "text/plain": [
              "<Figure size 640x480 with 0 Axes>"
            ]
          },
          "metadata": {},
          "output_type": "display_data"
        }
      ],
      "source": [
        "epochs = range(len(acc))\n",
        "\n",
        "plt.plot(epochs, acc, 'r', label='Training accuracy')\n",
        "plt.plot(epochs, val_acc, 'b', label='Validation accuracy')\n",
        "plt.title('Training and validation accuracy')\n",
        "plt.legend(loc=0)\n",
        "plt.figure()\n",
        "\n",
        "plt.show()"
      ]
    },
    {
      "cell_type": "markdown",
      "metadata": {
        "id": "HJnaI3xjHR0k"
      },
      "source": [
        "plot loss for training and validation"
      ]
    },
    {
      "cell_type": "code",
      "execution_count": null,
      "metadata": {
        "colab": {
          "base_uri": "https://localhost:8080/",
          "height": 469
        },
        "id": "0uQgWcTzuC62",
        "outputId": "6c95ea82-b127-4073-f497-f5e6cc3956ca"
      },
      "outputs": [
        {
          "data": {
            "image/png": "[encoded data removed]",
            "text/plain": [
              "<Figure size 640x480 with 1 Axes>"
            ]
          },
          "metadata": {},
          "output_type": "display_data"
        },
        {
          "data": {
            "text/plain": [
              "<Figure size 640x480 with 0 Axes>"
            ]
          },
          "metadata": {},
          "output_type": "display_data"
        }
      ],
      "source": [
        "epochs = range(len(loss))\n",
        "\n",
        "plt.plot(epochs, loss, 'r', label='Training loss')\n",
        "plt.plot(epochs, val_loss, 'b', label='Validation loss')\n",
        "plt.title('Training and validation loss')\n",
        "plt.legend(loc=0)\n",
        "plt.figure()\n",
        "\n",
        "plt.show()"
      ]
    },
    {
      "cell_type": "markdown",
      "metadata": {
        "id": "4ADVwdXSHfA_"
      },
      "source": [
        "print test accuracy"
      ]
    },
    {
      "cell_type": "code",
      "execution_count": null,
      "metadata": {
        "colab": {
          "base_uri": "https://localhost:8080/"
        },
        "id": "dXsfGT-Hvzzu",
        "outputId": "ba0ff3c7-74d8-4186-bbce-d33e7726e15c"
      },
      "outputs": [
        {
          "name": "stdout",
          "output_type": "stream",
          "text": [
            "2/2 [==============================] - 5s 5s/step - loss: 0.5300 - accuracy: 0.8704\n",
            "Test Accuracy: 87.03703880310059\n"
          ]
        }
      ],
      "source": [
        "scores = model.evaluate(x_test, y_test)\n",
        "print(f\"Test Accuracy: {scores[1]*100}\")"
      ]
    },
    {
      "cell_type": "markdown",
      "metadata": {
        "id": "EoGswDnVH3Yy"
      },
      "source": [
        "get predictions"
      ]
    },
    {
      "cell_type": "code",
      "execution_count": null,
      "metadata": {
        "colab": {
          "base_uri": "https://localhost:8080/"
        },
        "id": "T5OXt1M8v2VV",
        "outputId": "cef67db0-c327-4643-b04b-86665df43777"
      },
      "outputs": [
        {
          "name": "stdout",
          "output_type": "stream",
          "text": [
            "2/2 [==============================] - 0s 108ms/step\n"
          ]
        }
      ],
      "source": [
        "y_pred = model.predict(x_test)"
      ]
    },
    {
      "cell_type": "markdown",
      "metadata": {
        "id": "-IXIUg67HyyM"
      },
      "source": [
        "print true labels - predictions"
      ]
    },
    {
      "cell_type": "code",
      "execution_count": null,
      "metadata": {
        "colab": {
          "base_uri": "https://localhost:8080/"
        },
        "id": "-3cUggKFv4I5",
        "outputId": "a2d02003-7535-428f-da5c-07c99f9b2f43"
      },
      "outputs": [
        {
          "name": "stdout",
          "output_type": "stream",
          "text": [
            "Tomato Early blight leaf - Tomato Early blight leaf\n",
            "Tomato Early blight leaf - Tomato Early blight leaf\n",
            "Tomato Early blight leaf - Tomato Early blight leaf\n",
            "Tomato Early blight leaf - Tomato Early blight leaf\n",
            "Tomato Early blight leaf - Tomato leaf late blight\n",
            "Tomato Early blight leaf - Tomato Early blight leaf\n",
            "Tomato Early blight leaf - Tomato Early blight leaf\n",
            "Tomato Early blight leaf - Tomato leaf late blight\n",
            "Tomato Early blight leaf - Tomato Early blight leaf\n",
            "Tomato Early blight leaf - Tomato Early blight leaf\n",
            "Tomato leaf - Tomato leaf\n",
            "Tomato leaf - Tomato leaf\n",
            "Tomato leaf - Tomato leaf\n",
            "Tomato leaf - Tomato Early blight leaf\n",
            "Tomato leaf - Tomato leaf\n",
            "Tomato leaf - Tomato leaf\n",
            "Tomato leaf - Tomato leaf\n",
            "Tomato leaf - Tomato leaf\n",
            "Tomato leaf late blight - Tomato leaf late blight\n",
            "Tomato leaf late blight - Tomato leaf late blight\n",
            "Tomato leaf late blight - Tomato leaf late blight\n",
            "Tomato leaf late blight - Tomato leaf late blight\n",
            "Tomato leaf late blight - Tomato Early blight leaf\n",
            "Tomato leaf late blight - Tomato leaf late blight\n",
            "Tomato leaf late blight - Tomato leaf late blight\n",
            "Tomato leaf late blight - Tomato leaf late blight\n",
            "Tomato leaf late blight - Tomato leaf late blight\n",
            "Tomato leaf late blight - Tomato leaf late blight\n",
            "Wheat leaf Healthy - Wheat leaf Healthy\n",
            "Wheat leaf Healthy - Wheat leaf Healthy\n",
            "Wheat leaf Healthy - Wheat leaf Healthy\n",
            "Wheat leaf Healthy - Wheat leaf Healthy\n",
            "Wheat leaf Healthy - Wheat leaf stripe_rust\n",
            "Wheat leaf Healthy - Wheat leaf Healthy\n",
            "Wheat leaf Healthy - Wheat leaf Healthy\n",
            "Wheat leaf Healthy - Wheat leaf Healthy\n",
            "Wheat leaf septoria - Wheat leaf septoria\n",
            "Wheat leaf septoria - Wheat leaf septoria\n",
            "Wheat leaf septoria - Wheat leaf stripe_rust\n",
            "Wheat leaf septoria - Wheat leaf septoria\n",
            "Wheat leaf septoria - Wheat leaf septoria\n",
            "Wheat leaf septoria - Wheat leaf septoria\n",
            "Wheat leaf septoria - Wheat leaf septoria\n",
            "Wheat leaf septoria - Wheat leaf septoria\n",
            "Wheat leaf stripe_rust - Wheat leaf stripe_rust\n",
            "Wheat leaf stripe_rust - Wheat leaf stripe_rust\n",
            "Wheat leaf stripe_rust - Wheat leaf stripe_rust\n",
            "Wheat leaf stripe_rust - Wheat leaf stripe_rust\n",
            "Wheat leaf stripe_rust - Wheat leaf stripe_rust\n",
            "Wheat leaf stripe_rust - Wheat leaf stripe_rust\n",
            "Wheat leaf stripe_rust - Wheat leaf stripe_rust\n",
            "Wheat leaf stripe_rust - Wheat leaf stripe_rust\n",
            "Wheat leaf stripe_rust - Wheat leaf septoria\n",
            "Wheat leaf stripe_rust - Wheat leaf stripe_rust\n"
          ]
        }
      ],
      "source": [
        "for i in range(len(y_pred)):\n",
        "  print(all_labels[np.argmax(y_test[i])], \"-\", all_labels[np.argmax(y_pred[i])])"
      ]
    },
    {
      "cell_type": "code",
      "execution_count": null,
      "metadata": {
        "id": "pbFdA-bFI52c"
      },
      "outputs": [],
      "source": [
        "# model.save_weights(\"/content/drive/My Drive/wheat_tomato_disease_prediction_model_weights.h5\")"
      ]
    },
    {
      "cell_type": "code",
      "execution_count": null,
      "metadata": {
        "id": "hgiYVm4brkPZ"
      },
      "outputs": [],
      "source": [
        "# model.load_weights(\"/content/drive/My Drive/wheat_tomato_disease_prediction_model_weights.h5\")"
      ]
    },
    {
      "cell_type": "code",
      "execution_count": null,
      "metadata": {
        "colab": {
          "base_uri": "https://localhost:8080/",
          "height": 673
        },
        "id": "iroj4wkBJMNi",
        "outputId": "84a53510-8a2a-4c33-93b8-f9eefc99b0d2"
      },
      "outputs": [
        {
          "name": "stdout",
          "output_type": "stream",
          "text": [
            "16/16 [==============================] - 2s 122ms/step\n"
          ]
        },
        {
          "data": {
            "image/png": "[encoded data removed]",
            "text/plain": [
              "<Figure size 640x480 with 2 Axes>"
            ]
          },
          "metadata": {},
          "output_type": "display_data"
        },
        {
          "name": "stdout",
          "output_type": "stream",
          "text": [
            "              precision    recall  f1-score   support\n",
            "\n",
            "           0       0.96      1.00      0.98        77\n",
            "           1       1.00      1.00      1.00        46\n",
            "           2       1.00      0.96      0.98        82\n",
            "           3       1.00      0.94      0.97        72\n",
            "           4       1.00      1.00      1.00        75\n",
            "           5       0.97      1.00      0.99       156\n",
            "\n",
            "    accuracy                           0.99       508\n",
            "   macro avg       0.99      0.98      0.99       508\n",
            "weighted avg       0.99      0.99      0.99       508\n",
            "\n"
          ]
        }
      ],
      "source": [
        "import matplotlib.pyplot as plt\n",
        "import numpy as np\n",
        "from sklearn.metrics import confusion_matrix\n",
        "import seaborn as sns\n",
        "\n",
        "# Get the predicted labels for the validation set\n",
        "y_pred = model.predict(x_train)\n",
        "y_pred = np.argmax(y_pred, axis=1)\n",
        "\n",
        "# Get the true labels for the validation set\n",
        "y_true = np.argmax(y_train, axis=1)\n",
        "\n",
        "# Generate the confusion matrix\n",
        "cm = confusion_matrix(y_true, y_pred)\n",
        "\n",
        "# Plot the confusion matrix\n",
        "sns.heatmap(cm, annot=True, fmt=\"d\")\n",
        "plt.show()\n",
        "\n",
        "print(classification_report(y_true, y_pred))"
      ]
    },
    {
      "cell_type": "code",
      "execution_count": null,
      "metadata": {
        "colab": {
          "base_uri": "https://localhost:8080/",
          "height": 678
        },
        "id": "F2TlJl345leq",
        "outputId": "ca27677e-d480-4b11-82c0-42df0d3de6c4"
      },
      "outputs": [
        {
          "name": "stdout",
          "output_type": "stream",
          "text": [
            "4/4 [==============================] - 0s 116ms/step\n"
          ]
        },
        {
          "data": {
            "image/png": "[encoded data removed]",
            "text/plain": [
              "<Figure size 640x480 with 2 Axes>"
            ]
          },
          "metadata": {},
          "output_type": "display_data"
        },
        {
          "name": "stdout",
          "output_type": "stream",
          "text": [
            "              precision    recall  f1-score   support\n",
            "\n",
            "           0       0.88      0.96      0.92        23\n",
            "           1       1.00      1.00      1.00         9\n",
            "           2       0.94      0.83      0.88        18\n",
            "           3       0.88      0.68      0.77        22\n",
            "           4       0.93      1.00      0.97        14\n",
            "           5       0.87      0.95      0.91        42\n",
            "\n",
            "    accuracy                           0.90       128\n",
            "   macro avg       0.92      0.90      0.91       128\n",
            "weighted avg       0.90      0.90      0.90       128\n",
            "\n"
          ]
        }
      ],
      "source": [
        "import matplotlib.pyplot as plt\n",
        "import numpy as np\n",
        "from sklearn.metrics import confusion_matrix\n",
        "import seaborn as sns\n",
        "\n",
        "# Get the predicted labels for the validation set\n",
        "y_pred = model.predict(x_val)\n",
        "y_pred = np.argmax(y_pred, axis=1)\n",
        "\n",
        "# Get the true labels for the validation set\n",
        "y_true = np.argmax(y_val, axis=1)\n",
        "\n",
        "# Generate the confusion matrix\n",
        "cm = confusion_matrix(y_true, y_pred)\n",
        "\n",
        "# Plot the confusion matrix\n",
        "sns.heatmap(cm, annot=True, fmt=\"d\")\n",
        "plt.show()\n",
        "\n",
        "print(classification_report(y_true, y_pred))"
      ]
    },
    {
      "cell_type": "code",
      "execution_count": null,
      "metadata": {
        "colab": {
          "base_uri": "https://localhost:8080/",
          "height": 678
        },
        "id": "TjrbrmfLzcUQ",
        "outputId": "4cb5134c-95c5-41f2-ec23-53e152fac614"
      },
      "outputs": [
        {
          "name": "stdout",
          "output_type": "stream",
          "text": [
            "2/2 [==============================] - 0s 108ms/step\n"
          ]
        },
        {
          "data": {
            "image/png": "[encoded data removed]",
            "text/plain": [
              "<Figure size 640x480 with 2 Axes>"
            ]
          },
          "metadata": {},
          "output_type": "display_data"
        },
        {
          "name": "stdout",
          "output_type": "stream",
          "text": [
            "              precision    recall  f1-score   support\n",
            "\n",
            "           0       0.80      0.80      0.80        10\n",
            "           1       1.00      0.88      0.93         8\n",
            "           2       0.82      0.90      0.86        10\n",
            "           3       1.00      0.88      0.93         8\n",
            "           4       0.88      0.88      0.88         8\n",
            "           5       0.82      0.90      0.86        10\n",
            "\n",
            "    accuracy                           0.87        54\n",
            "   macro avg       0.89      0.87      0.88        54\n",
            "weighted avg       0.88      0.87      0.87        54\n",
            "\n"
          ]
        }
      ],
      "source": [
        "import matplotlib.pyplot as plt\n",
        "import numpy as np\n",
        "from sklearn.metrics import confusion_matrix\n",
        "import seaborn as sns\n",
        "\n",
        "# Get the predicted labels for the validation set\n",
        "y_pred = model.predict(x_test)\n",
        "y_pred = np.argmax(y_pred, axis=1)\n",
        "\n",
        "# Get the true labels for the validation set\n",
        "y_true = np.argmax(y_test, axis=1)\n",
        "\n",
        "# Generate the confusion matrix\n",
        "cm = confusion_matrix(y_true, y_pred)\n",
        "\n",
        "# Plot the confusion matrix\n",
        "sns.heatmap(cm, annot=True, fmt=\"d\")\n",
        "plt.show()\n",
        "\n",
        "print(classification_report(y_true, y_pred))"
      ]
    },
    {
      "cell_type": "code",
      "execution_count": null,
      "metadata": {
        "id": "gok-TElK5tsI"
      },
      "outputs": [],
      "source": []
    }
  ],
  "metadata": {
    "accelerator": "GPU",
    "colab": {
      "gpuType": "T4",
      "provenance": []
    },
    "kernelspec": {
      "display_name": "Python 3",
      "name": "python3"
    },
    "language_info": {
      "name": "python"
    }
  },
  "nbformat": 4,
  "nbformat_minor": 0
}
